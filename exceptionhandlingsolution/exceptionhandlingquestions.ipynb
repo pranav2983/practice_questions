{
 "cells": [
  {
   "cell_type": "markdown",
   "metadata": {},
   "source": [
    "# Module: Exception Handling Assignments\n",
    "## Lesson: Exception Handling with try, except, and finally\n",
    "### Assignment 1: Handling Division by Zero\n",
    "\n",
    "Write a function that takes two integers as input and returns their division. Use try, except, and finally blocks to handle division by zero and print an appropriate message.\n",
    "\n",
    "### Assignment 2: File Reading with Exception Handling\n",
    "\n",
    "Write a function that reads the contents of a file named `data.txt`. Use try, except, and finally blocks to handle file not found errors and ensure the file is properly closed.\n",
    "\n",
    "### Assignment 3: Handling Multiple Exceptions\n",
    "\n",
    "Write a function that takes a list of integers and returns their sum. Use try, except, and finally blocks to handle TypeError if a non-integer value is encountered and print an appropriate message.\n",
    "\n",
    "### Assignment 4: Exception Handling in User Input\n",
    "\n",
    "Write a function that prompts the user to enter an integer. Use try, except, and finally blocks to handle ValueError if the user enters a non-integer value and print an appropriate message.\n",
    "\n",
    "### Assignment 5: Exception Handling in Dictionary Access\n",
    "\n",
    "Write a function that takes a dictionary and a key as input and returns the value associated with the key. Use try, except, and finally blocks to handle KeyError if the key is not found in the dictionary and print an appropriate message.\n",
    "\n",
    "### Assignment 6: Nested Exception Handling\n",
    "\n",
    "Write a function that performs nested exception handling. It should first attempt to convert a string to an integer, and then attempt to divide by that integer. Use nested try, except, and finally blocks to handle ValueError and ZeroDivisionError and print appropriate messages.\n",
    "\n",
    "### Assignment 7: Exception Handling in List Operations\n",
    "\n",
    "Write a function that takes a list and an index as input and returns the element at the given index. Use try, except, and finally blocks to handle IndexError if the index is out of range and print an appropriate message.\n",
    "\n",
    "### Assignment 8: Exception Handling in Network Operations\n",
    "\n",
    "Write a function that attempts to open a URL and read its contents. Use try, except, and finally blocks to handle network-related errors and print an appropriate message.\n",
    "\n",
    "### Assignment 9: Exception Handling in JSON Parsing\n",
    "\n",
    "Write a function that attempts to parse a JSON string. Use try, except, and finally blocks to handle JSONDecodeError if the string is not a valid JSON and print an appropriate message.\n",
    "\n",
    "### Assignment 10: Custom Exception Handling\n",
    "\n",
    "Define a custom exception named `NegativeNumberError`. Write a function that raises this exception if a negative number is encountered in a list. Use try, except, and finally blocks to handle the custom exception and print an appropriate message.\n",
    "\n",
    "### Assignment 11: Exception Handling in Function Calls\n",
    "\n",
    "Write a function that calls another function which may raise an exception. Use try, except, and finally blocks to handle the exception and print an appropriate message.\n",
    "\n",
    "### Assignment 12: Exception Handling in Class Methods\n",
    "\n",
    "Define a class with a method that performs a division operation. Use try, except, and finally blocks within the method to handle division by zero and print an appropriate message.\n",
    "\n",
    "### Assignment 13: Exception Handling in Data Conversion\n",
    "\n",
    "Write a function that takes a list of strings and converts them to integers. Use try, except, and finally blocks to handle ValueError if a string cannot be converted and print an appropriate message.\n",
    "\n",
    "### Assignment 14: Exception Handling in List Comprehensions\n",
    "\n",
    "Write a function that uses a list comprehension to convert a list of strings to integers. Use try, except, and finally blocks within the list comprehension to handle ValueError and print an appropriate message.\n",
    "\n",
    "### Assignment 15: Exception Handling in File Writing\n",
    "\n",
    "Write a function that attempts to write a list of strings to a file. Use try, except, and finally blocks to handle IOError and ensure the file is properly closed."
   ]
  },
  {
   "cell_type": "code",
   "execution_count": 2,
   "metadata": {},
   "outputs": [
    {
     "name": "stdout",
     "output_type": "stream",
     "text": [
      "division executed!\n"
     ]
    },
    {
     "data": {
      "text/plain": [
       "5.0"
      ]
     },
     "execution_count": 2,
     "metadata": {},
     "output_type": "execute_result"
    }
   ],
   "source": [
    "# 1\n",
    "\n",
    "def division(a,b):\n",
    "    try:\n",
    "        result = a/b\n",
    "    except ZeroDivisionError:\n",
    "        print(\"Enter the demoinator greater than zero\")\n",
    "    finally:\n",
    "        print(\"division executed!\")\n",
    "    return result\n",
    "    \n",
    "division(10,2)\n"
   ]
  },
  {
   "cell_type": "code",
   "execution_count": 12,
   "id": "563880ac",
   "metadata": {},
   "outputs": [
    {
     "name": "stdout",
     "output_type": "stream",
     "text": [
      "[Errno 2] No such file or directory: 'data.txt'\n",
      "cannot access local variable 'file' where it is not associated with a value\n"
     ]
    }
   ],
   "source": [
    "# 2 Read the content of file\n",
    "\n",
    "def read_file(filename):\n",
    "    try:\n",
    "        file = open(filename, mode='r')\n",
    "        content = file.read()\n",
    "        return content\n",
    "\n",
    "    except FileNotFoundError as fn:\n",
    "        print(fn)\n",
    "\n",
    "    finally:\n",
    "        try:\n",
    "            file.close()\n",
    "        except NameError as ex:\n",
    "            print(ex)\n",
    "\n",
    "read_file('data.txt')\n"
   ]
  },
  {
   "cell_type": "code",
   "execution_count": 27,
   "id": "bb0aef30",
   "metadata": {},
   "outputs": [
    {
     "name": "stdout",
     "output_type": "stream",
     "text": [
      "Execution completed!\n"
     ]
    },
    {
     "data": {
      "text/plain": [
       "6"
      ]
     },
     "execution_count": 27,
     "metadata": {},
     "output_type": "execute_result"
    }
   ],
   "source": [
    "# 3\n",
    "\n",
    "def lst_sum(lst):\n",
    "    try:\n",
    "        for list in lst:\n",
    "            total = sum(lst)\n",
    "    except TypeError as ex:\n",
    "        print(f\"Error: {ex}\")\n",
    "        return None\n",
    "    \n",
    "    finally:\n",
    "        print(\"Execution completed!\")\n",
    "    \n",
    "    return total\n",
    "\n",
    "# lst = [1,2,3,4,5,'a']\n",
    "# lst_sum(lst)\n",
    "\n",
    "lst1 = [1,2,3]\n",
    "lst_sum(lst1)"
   ]
  },
  {
   "cell_type": "code",
   "execution_count": 29,
   "id": "07e595ea",
   "metadata": {},
   "outputs": [
    {
     "name": "stdout",
     "output_type": "stream",
     "text": [
      "Error: invalid literal for int() with base 10: 'a'\n",
      "Non-integer value is not allowed\n",
      "Execution completed!\n"
     ]
    }
   ],
   "source": [
    "# 4\n",
    "\n",
    "def prompt_int():\n",
    "    try:\n",
    "        num = int(input(\"Enter the number\"))\n",
    "    except ValueError as ex:\n",
    "        print(f\"Error: {ex}\")\n",
    "        print(\"Non-integer value is not allowed\")\n",
    "        return None\n",
    "    finally:\n",
    "        print(\"Execution completed!\")\n",
    "    return num\n",
    "\n",
    "prompt_int()"
   ]
  },
  {
   "cell_type": "code",
   "execution_count": 32,
   "id": "b2a57667",
   "metadata": {},
   "outputs": [
    {
     "name": "stdout",
     "output_type": "stream",
     "text": [
      "execution completed!\n"
     ]
    },
    {
     "data": {
      "text/plain": [
       "'pranav'"
      ]
     },
     "execution_count": 32,
     "metadata": {},
     "output_type": "execute_result"
    }
   ],
   "source": [
    "# 5\n",
    "\n",
    "def get_dict_value(d, key):\n",
    "    try:\n",
    "        value = d[key]\n",
    "\n",
    "    except KeyError as ex:\n",
    "        print(f\"Error : {ex}\")\n",
    "        return None\n",
    "    finally:\n",
    "        print(\"execution completed!\")\n",
    "\n",
    "    return value\n",
    "\n",
    "d  = {'name':'pranav', \n",
    "        'age': 12\n",
    "}\n",
    "\n",
    "get_dict_value(d, 'name')"
   ]
  },
  {
   "cell_type": "code",
   "execution_count": 45,
   "id": "cb3125cf",
   "metadata": {},
   "outputs": [
    {
     "name": "stdout",
     "output_type": "stream",
     "text": [
      "1\n",
      "converesion attempt completed!\n",
      "division attempt completed!\n",
      "overall execution completed!\n"
     ]
    },
    {
     "data": {
      "text/plain": [
       "10.0"
      ]
     },
     "execution_count": 45,
     "metadata": {},
     "output_type": "execute_result"
    }
   ],
   "source": [
    "# # 6\n",
    "\n",
    "# ### Assignment 6: Nested Exception Handling\n",
    "\n",
    "# Write a function that performs nested exception handling. \n",
    "# It should first attempt to convert a string to an integer, \n",
    "# and then attempt to divide by that integer. Use nested try, except, and \n",
    "# finally blocks to handle ValueError and ZeroDivisionError and print appropriate messages.\n",
    "\n",
    "\n",
    "def nested_exception_handling(s):\n",
    "    try:\n",
    "        try:\n",
    "            num = int(s)\n",
    "            print(num)\n",
    "        except ValueError as ex:\n",
    "            print(f\"Error: {ex}\")\n",
    "            num =  None\n",
    "        finally:\n",
    "            print(\"converesion attempt completed!\")\n",
    "        if not num is None:\n",
    "            try:\n",
    "                result = 10/num\n",
    "            except ZeroDivisionError as ex:\n",
    "                print(f\"Error : {ex}\")\n",
    "                result = None   \n",
    "            finally:\n",
    "                print(\"division attempt completed!\")\n",
    "            return result\n",
    "\n",
    "    finally:\n",
    "        print(\"overall execution completed!\")\n",
    "\n",
    "str = '1'\n",
    "nested_exception_handling(str)"
   ]
  },
  {
   "cell_type": "code",
   "execution_count": 46,
   "id": "7ee5aeb9",
   "metadata": {},
   "outputs": [
    {
     "name": "stdout",
     "output_type": "stream",
     "text": [
      "execution completed!\n"
     ]
    },
    {
     "data": {
      "text/plain": [
       "3"
      ]
     },
     "execution_count": 46,
     "metadata": {},
     "output_type": "execute_result"
    }
   ],
   "source": [
    "# 7\n",
    "\n",
    "def get_list_and_index(lst, index):\n",
    "    try:\n",
    "        index_value = lst[index]\n",
    "\n",
    "    except IndexError as ex:\n",
    "        print(f\"Error : {ex}\")\n",
    "        return None\n",
    "    \n",
    "    finally:\n",
    "        print(\"execution completed!\")\n",
    "\n",
    "    return index_value\n",
    "\n",
    "lst = [1,2,3]\n",
    "get_list_and_index(lst, 2)"
   ]
  },
  {
   "cell_type": "code",
   "execution_count": null,
   "id": "43333fa0",
   "metadata": {},
   "outputs": [
    {
     "name": "stdout",
     "output_type": "stream",
     "text": [
      "Error :Invalid URL 'a': No scheme supplied. Perhaps you meant https://a?\n",
      "Execution completed!\n"
     ]
    }
   ],
   "source": [
    "# 8\n",
    "\n",
    "import requests\n",
    "\n",
    "def read_url(url):\n",
    "    try:\n",
    "        response = requests.get(url)\n",
    "        response.raise_for_status()\n",
    "        return response\n",
    "    except Exception as ex:\n",
    "        print(f\"Error :{ex}\")\n",
    "        return None\n",
    "    finally:\n",
    "        print(\"Execution completed!\") \n",
    "\n",
    "\n",
    "\n",
    "\n",
    "read_url('https://jsonplaceholder.typicode.com/posts/1')\n"
   ]
  },
  {
   "cell_type": "code",
   "execution_count": 52,
   "id": "8d2d78d0",
   "metadata": {},
   "outputs": [
    {
     "name": "stdout",
     "output_type": "stream",
     "text": [
      "execution completed!\n"
     ]
    },
    {
     "data": {
      "text/plain": [
       "{'name': 'John', 'age': 30}"
      ]
     },
     "execution_count": 52,
     "metadata": {},
     "output_type": "execute_result"
    }
   ],
   "source": [
    "# 9\n",
    "\n",
    "import json\n",
    "\n",
    "def parse_json(json_string):\n",
    "    try:\n",
    "        new_json = json.loads(json_string)\n",
    "    except json.JSONDecodeError as ex:\n",
    "        print(f\"Error : {ex}\")\n",
    "        print(\"Provided string is not a valid JSON\")\n",
    "        return None\n",
    "    finally:\n",
    "        print(\"execution completed!\")\n",
    "    return new_json\n",
    "\n",
    "\n",
    "pjson = '{\"name\": \"John\", \"age\": 30}'\n",
    "parse_json(pjson)\n",
    "\n"
   ]
  },
  {
   "cell_type": "code",
   "execution_count": 63,
   "id": "cc225914",
   "metadata": {},
   "outputs": [
    {
     "name": "stdout",
     "output_type": "stream",
     "text": [
      "Error : Negative number found: -1 \n",
      "Negative number is encountered in the list \n",
      "execution completed!\n"
     ]
    }
   ],
   "source": [
    "class NegativeNumberError(Exception):\n",
    "    pass\n",
    "\n",
    "\n",
    "def custom_exception(lst):\n",
    "    try:\n",
    "        for item in lst:\n",
    "            if item < 0:\n",
    "                raise NegativeNumberError(f\"Negative number found: {item} \")\n",
    "    except NegativeNumberError as ex:\n",
    "        print(f\"Error : {ex}\")\n",
    "        print(\"Negative number is encountered in the list \")\n",
    "    finally:\n",
    "        print(f\"execution completed!\")\n",
    "        \n",
    "\n",
    "lst = [-1,2,3,4]\n",
    "custom_exception(lst)\n"
   ]
  },
  {
   "cell_type": "code",
   "execution_count": 64,
   "id": "fc34454f",
   "metadata": {},
   "outputs": [
    {
     "name": "stdout",
     "output_type": "stream",
     "text": [
      "Error : An error occured in function1\n",
      "execution completed!\n"
     ]
    }
   ],
   "source": [
    "def fun1():\n",
    "    raise ValueError(\"An error occured in function1\")\n",
    "def fun2():\n",
    "    try:\n",
    "        fun1()\n",
    "    except ValueError as e:\n",
    "        print(f\"Error : {e}\")\n",
    "\n",
    "    finally:\n",
    "        print(\"execution completed!\")\n",
    "    \n",
    "\n",
    "fun2()\n",
    "\n"
   ]
  },
  {
   "cell_type": "code",
   "execution_count": 69,
   "id": "56b4487f",
   "metadata": {},
   "outputs": [
    {
     "name": "stdout",
     "output_type": "stream",
     "text": [
      "execution completed!\n"
     ]
    },
    {
     "data": {
      "text/plain": [
       "2.0"
      ]
     },
     "execution_count": 69,
     "metadata": {},
     "output_type": "execute_result"
    }
   ],
   "source": [
    "class operation:\n",
    "    def division(self,a,b):\n",
    "        try:\n",
    "            res = a/b\n",
    "        except ZeroDivisionError as ex:\n",
    "            print(f\"Error : {ex}\")\n",
    "            return None\n",
    "        finally:\n",
    "            print(\"execution completed!\")\n",
    "        return res\n",
    "\n",
    "result = operation()\n",
    "result.division(10,5)\n",
    "\n",
    "\n"
   ]
  },
  {
   "cell_type": "code",
   "execution_count": 84,
   "id": "c38ccfbc",
   "metadata": {},
   "outputs": [
    {
     "name": "stdout",
     "output_type": "stream",
     "text": [
      "<class 'list'>\n",
      "exceution completed!\n"
     ]
    },
    {
     "data": {
      "text/plain": [
       "[1, 2, 3, 4]"
      ]
     },
     "execution_count": 84,
     "metadata": {},
     "output_type": "execute_result"
    }
   ],
   "source": [
    "\n",
    "def data_conversion(lst):\n",
    "    \n",
    "    try:\n",
    "        int_lst = list(map(int, lst))\n",
    "\n",
    "    except ValueError as ex:\n",
    "        print(f\"Error : {ex}\")\n",
    "        return None\n",
    "\n",
    "    finally:\n",
    "        print(f\"exceution completed!\")\n",
    "\n",
    "    return int_lst\n",
    "\n",
    "lst = ['1','2','3','4']\n",
    "print(type(lst))\n",
    "data_conversion(lst)\n"
   ]
  },
  {
   "cell_type": "code",
   "execution_count": 85,
   "id": "ae7a88db",
   "metadata": {},
   "outputs": [
    {
     "name": "stdout",
     "output_type": "stream",
     "text": [
      "<class 'list'>\n",
      "exceution completed!\n"
     ]
    },
    {
     "data": {
      "text/plain": [
       "[1, 2, 3, 4]"
      ]
     },
     "execution_count": 85,
     "metadata": {},
     "output_type": "execute_result"
    }
   ],
   "source": [
    "\n",
    "def data_conversion(lst):\n",
    "    \n",
    "    try:\n",
    "        int_lst = [int(item) for item in lst]\n",
    "\n",
    "    except ValueError as ex:\n",
    "        print(f\"Error : {ex}\")\n",
    "        return None\n",
    "\n",
    "    finally:\n",
    "        print(f\"exceution completed!\")\n",
    "\n",
    "    return int_lst\n",
    "\n",
    "lst = ['1','2','3','4']\n",
    "print(type(lst))\n",
    "data_conversion(lst)\n"
   ]
  },
  {
   "cell_type": "code",
   "execution_count": 86,
   "id": "7461c9b8",
   "metadata": {},
   "outputs": [],
   "source": [
    "def write_string_to_file(string, filename):\n",
    "    try:\n",
    "        file = open(filename, mode='w')\n",
    "        for item in string:\n",
    "            file.write(item + '\\n')\n",
    "    except IOError as ex:\n",
    "        print(f\"Error : {ex}\")\n",
    "        return None\n",
    "    finally:\n",
    "        try:\n",
    "            file.close()\n",
    "        except NameError:\n",
    "            pass\n",
    "\n",
    "write_string_to_file([\"hello\",'world'], 'input.txt')\n"
   ]
  }
 ],
 "metadata": {
  "kernelspec": {
   "display_name": "venv",
   "language": "python",
   "name": "python3"
  },
  "language_info": {
   "codemirror_mode": {
    "name": "ipython",
    "version": 3
   },
   "file_extension": ".py",
   "mimetype": "text/x-python",
   "name": "python",
   "nbconvert_exporter": "python",
   "pygments_lexer": "ipython3",
   "version": "3.12.0"
  }
 },
 "nbformat": 4,
 "nbformat_minor": 5
}
